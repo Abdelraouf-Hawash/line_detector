{
 "cells": [
  {
   "attachments": {},
   "cell_type": "markdown",
   "metadata": {},
   "source": [
    "### In this script we prepare data for modeling\n",
    "- BY: Abdelraouf Hawash \n",
    "- DATE: 30 / 3 / 2022"
   ]
  },
  {
   "attachments": {},
   "cell_type": "markdown",
   "metadata": {},
   "source": [
    "### *import libraries*"
   ]
  },
  {
   "cell_type": "code",
   "execution_count": 1,
   "metadata": {},
   "outputs": [],
   "source": [
    "import preprocessor\n",
    "import numpy as np\n",
    "import cv2"
   ]
  },
  {
   "attachments": {},
   "cell_type": "markdown",
   "metadata": {},
   "source": [
    "### *data generating*"
   ]
  },
  {
   "attachments": {},
   "cell_type": "markdown",
   "metadata": {},
   "source": [
    "#### define data source and destination"
   ]
  },
  {
   "cell_type": "code",
   "execution_count": 2,
   "metadata": {},
   "outputs": [],
   "source": [
    "source = [\"./root_data/empty\", \"./root_data/horizontal\", \"./root_data/QR\", \"./root_data/slide\", \"./root_data/vertical\"]\n",
    "\n",
    "dest = [\"./raw_data/empty\", \"./raw_data/horizontal\", \"./raw_data/QR\", \"./raw_data/slide\",\"./raw_data/vertical\"]"
   ]
  },
  {
   "attachments": {},
   "cell_type": "markdown",
   "metadata": {},
   "source": [
    "#### if we need to change the names to avoid arabic characters (indexing)"
   ]
  },
  {
   "cell_type": "code",
   "execution_count": 4,
   "metadata": {},
   "outputs": [],
   "source": [
    "for s in source:\n",
    "    preprocessor.indexing(s)"
   ]
  },
  {
   "attachments": {},
   "cell_type": "markdown",
   "metadata": {},
   "source": [
    "#### if we need to resize images and index them"
   ]
  },
  {
   "cell_type": "code",
   "execution_count": 6,
   "metadata": {},
   "outputs": [
    {
     "name": "stdout",
     "output_type": "stream",
     "text": [
      "./root_data/empty/empty.jpg  -  (960, 1280, 3) >>> ./raw_data/empty/0.jpg  -  (77, 102, 3) \n",
      "\n",
      "./root_data/horizontal/horizontal.jpg  -  (1280, 960, 3) >>> ./raw_data/horizontal/0.jpg  -  (102, 77, 3) \n",
      "\n",
      "./root_data/QR/QR_code.jpg  -  (512, 512, 3) >>> ./raw_data/QR/0.jpg  -  (41, 41, 3) \n",
      "\n",
      "./root_data/slide/slide.jpg  -  (1280, 960, 3) >>> ./raw_data/slide/0.jpg  -  (102, 77, 3) \n",
      "\n",
      "./root_data/vertical/veritical.jpg  -  (1280, 960, 3) >>> ./raw_data/vertical/0.jpg  -  (102, 77, 3) \n",
      "\n"
     ]
    }
   ],
   "source": [
    "for (s,d) in zip(source,dest):\n",
    "    preprocessor.data_resize_and_indexing(source = s, dest = d, FX = 0.08, FY = 0.08)"
   ]
  },
  {
   "cell_type": "markdown",
   "metadata": {},
   "source": [
    "#### augmentation"
   ]
  },
  {
   "cell_type": "code",
   "execution_count": 8,
   "metadata": {},
   "outputs": [],
   "source": [
    "source = [\"./raw_data/empty\",\"./raw_data/horizontal\",\"./raw_data/QR\",\n",
    "          \"./raw_data/slide\",\"./raw_data/vertical\"]\n",
    "\n",
    "dest = [\"./augmented_data/empty\",\"./augmented_data/horizontal\",\"./augmented_data/QR\",\n",
    "          \"./augmented_data/slide\",\"./augmented_data/vertical\"]"
   ]
  },
  {
   "cell_type": "code",
   "execution_count": 9,
   "metadata": {},
   "outputs": [
    {
     "name": "stdout",
     "output_type": "stream",
     "text": [
      "./raw_data/empty/0.jpg\n",
      "./raw_data/horizontal/0.jpg\n",
      "./raw_data/QR/0.jpg\n",
      "./raw_data/slide/0.jpg\n",
      "./raw_data/vertical/0.jpg\n"
     ]
    }
   ],
   "source": [
    "# in our application , flipping is a suitable augmentation \n",
    "\n",
    "for (s,d) in zip(source,dest):\n",
    "    preprocessor.flipping(s ,d , horizontal = True, vertical = True , Indexing = True)\n"
   ]
  },
  {
   "attachments": {},
   "cell_type": "markdown",
   "metadata": {},
   "source": [
    "#### labeling data"
   ]
  },
  {
   "attachments": {},
   "cell_type": "markdown",
   "metadata": {},
   "source": [
    "generate data with specific label"
   ]
  },
  {
   "cell_type": "code",
   "execution_count": 2,
   "metadata": {},
   "outputs": [],
   "source": [
    "source = [\"./augmented_data/empty\",\"./augmented_data/horizontal\",\"./augmented_data/QR\"]\n",
    "dest = [\"./output/empty\",\"./output/horizontal\",\"./output/QR\"]\n",
    "labels = [\"empty\",\"horizontal\",\"QR\"]"
   ]
  },
  {
   "cell_type": "code",
   "execution_count": 3,
   "metadata": {},
   "outputs": [
    {
     "name": "stdout",
     "output_type": "stream",
     "text": [
      "./augmented_data/empty/0.jpg\n",
      "./augmented_data/empty/1.jpg\n",
      "./augmented_data/empty/2.jpg\n",
      "./augmented_data/horizontal/0.jpg\n",
      "./augmented_data/horizontal/2.jpg\n",
      "./augmented_data/horizontal/1.jpg\n",
      "./augmented_data/QR/1.jpg\n",
      "./augmented_data/QR/2.jpg\n",
      "./augmented_data/QR/0.jpg\n"
     ]
    }
   ],
   "source": [
    "for (s,d,l) in zip(source,dest,labels):\n",
    "    preprocessor.data_generator_labeled(s, d , l)"
   ]
  },
  {
   "attachments": {},
   "cell_type": "markdown",
   "metadata": {},
   "source": [
    "generate data with manually labeling"
   ]
  },
  {
   "attachments": {},
   "cell_type": "markdown",
   "metadata": {},
   "source": [
    "###### classify slides"
   ]
  },
  {
   "cell_type": "code",
   "execution_count": 2,
   "metadata": {},
   "outputs": [
    {
     "name": "stderr",
     "output_type": "stream",
     "text": [
      "qt.qpa.plugin: Could not find the Qt platform plugin \"wayland\" in \"/home/raouf/.local/lib/python3.10/site-packages/cv2/qt/plugins\"\n"
     ]
    },
    {
     "name": "stdout",
     "output_type": "stream",
     "text": [
      "center\n",
      "right1\n",
      "center\n"
     ]
    },
    {
     "data": {
      "text/plain": [
       "True"
      ]
     },
     "execution_count": 2,
     "metadata": {},
     "output_type": "execute_result"
    }
   ],
   "source": [
    "source = \"./augmented_data/slide\"\n",
    "dest = \"./output/slide\"\n",
    "preprocessor.data_generator(source, dest)"
   ]
  },
  {
   "attachments": {},
   "cell_type": "markdown",
   "metadata": {},
   "source": [
    "###### classify vertical"
   ]
  },
  {
   "cell_type": "code",
   "execution_count": 3,
   "metadata": {},
   "outputs": [
    {
     "name": "stdout",
     "output_type": "stream",
     "text": [
      "lef1\n",
      "right1\n",
      "right1\n"
     ]
    },
    {
     "data": {
      "text/plain": [
       "True"
      ]
     },
     "execution_count": 3,
     "metadata": {},
     "output_type": "execute_result"
    }
   ],
   "source": [
    "source = \"./augmented_data/vertical\"\n",
    "dest = \"./output/vertical\"\n",
    "preprocessor.data_generator(source, dest)"
   ]
  },
  {
   "attachments": {},
   "cell_type": "markdown",
   "metadata": {},
   "source": [
    "#### make all data in one file"
   ]
  },
  {
   "cell_type": "code",
   "execution_count": 4,
   "metadata": {},
   "outputs": [],
   "source": [
    "source = [\"./output/empty\",\"./output/horizontal\",\"./output/QR\" , \"./output/slide\",\"./output/vertical\"]\n",
    "dest = './output/all_data'"
   ]
  },
  {
   "attachments": {},
   "cell_type": "markdown",
   "metadata": {},
   "source": [
    "gather data"
   ]
  },
  {
   "cell_type": "code",
   "execution_count": 5,
   "metadata": {},
   "outputs": [
    {
     "name": "stdout",
     "output_type": "stream",
     "text": [
      "./output/empty\n",
      "./output/horizontal\n",
      "./output/QR\n",
      "./output/slide\n",
      "./output/vertical\n"
     ]
    }
   ],
   "source": [
    "source_data0 = []\n",
    "X_data0 = []\n",
    "y_data0 = []\n",
    "    \n",
    "for i in source:\n",
    "    S = np.load(f'{i}/source_data.npy')\n",
    "    X = np.load(f'{i}/X_data.npy')\n",
    "    Y = np.load(f'{i}/y_data.npy')\n",
    "    for (s,x,y) in zip(S,X,Y):\n",
    "        source_data0.append(s)\n",
    "        X_data0.append(x)\n",
    "        y_data0.append(y)\n",
    "    print(i)"
   ]
  },
  {
   "attachments": {},
   "cell_type": "markdown",
   "metadata": {},
   "source": [
    "shuffle data"
   ]
  },
  {
   "cell_type": "code",
   "execution_count": 6,
   "metadata": {},
   "outputs": [],
   "source": [
    "source_data = []\n",
    "X_data = []\n",
    "y_data = []\n",
    "randomize = np.arange(len(source_data0))\n",
    "np.random.shuffle(randomize)\n",
    "for i in randomize:\n",
    "    source_data.append(source_data0[i])\n",
    "    X_data.append(X_data0[i])\n",
    "    y_data.append(y_data0[i])"
   ]
  },
  {
   "attachments": {},
   "cell_type": "markdown",
   "metadata": {},
   "source": [
    "#### save data in files to be loaded"
   ]
  },
  {
   "cell_type": "code",
   "execution_count": 7,
   "metadata": {},
   "outputs": [],
   "source": [
    "if not os.path.exists(dest):\n",
    "    os.mkdir(os.path.join(dest))\n",
    "np.save(f'{dest}/source_data.npy', source_data)\n",
    "np.save(f'{dest}/X_data.npy', X_data)\n",
    "np.save(f'{dest}/y_data.npy', y_data)"
   ]
  },
  {
   "attachments": {},
   "cell_type": "markdown",
   "metadata": {},
   "source": [
    "### show our generated data"
   ]
  },
  {
   "attachments": {},
   "cell_type": "markdown",
   "metadata": {},
   "source": [
    "loading data from files"
   ]
  },
  {
   "cell_type": "code",
   "execution_count": 2,
   "metadata": {},
   "outputs": [
    {
     "name": "stdout",
     "output_type": "stream",
     "text": [
      "[[15 15 15 ... 16 16 16]\n",
      " [ 1  9  9 ...  8  7  7]\n",
      " [ 7  7  7 ...  8  8  7]\n",
      " ...\n",
      " [15 15 15 ... 15 15 16]\n",
      " [ 9  9  9 ...  7  6  6]\n",
      " [ 7  7  7 ...  9  8  8]]\n",
      "(15, 400)\n",
      "['QR' 'right1' 'right1' 'center' 'center' 'empty' 'horizontal' 'empty'\n",
      " 'right1' 'QR' 'horizontal' 'empty' 'QR' 'horizontal' 'lef1']\n"
     ]
    }
   ],
   "source": [
    "source_data = np.load('./output/all_data/source_data.npy')\n",
    "X_data = np.load('./output/all_data/X_data.npy')\n",
    "Y_data = np.load('./output/all_data/y_data.npy')\n",
    "\n",
    "print(X_data)\n",
    "print(X_data.shape)\n",
    "print(Y_data)"
   ]
  },
  {
   "cell_type": "code",
   "execution_count": 3,
   "metadata": {},
   "outputs": [
    {
     "name": "stderr",
     "output_type": "stream",
     "text": [
      "qt.qpa.plugin: Could not find the Qt platform plugin \"wayland\" in \"/home/raouf/.local/lib/python3.10/site-packages/cv2/qt/plugins\"\n"
     ]
    },
    {
     "data": {
      "text/plain": [
       "113"
      ]
     },
     "execution_count": 3,
     "metadata": {},
     "output_type": "execute_result"
    }
   ],
   "source": [
    "preprocessor.show_processed_img(X_data[0])"
   ]
  },
  {
   "cell_type": "code",
   "execution_count": 3,
   "metadata": {},
   "outputs": [],
   "source": [
    "classes = ['QR','empty','horizontal','lef3','left2','lef1','center','right1','right2','right3']"
   ]
  },
  {
   "cell_type": "code",
   "execution_count": 4,
   "metadata": {},
   "outputs": [
    {
     "name": "stdout",
     "output_type": "stream",
     "text": [
      "[1, 0, 0, 0, 0, 0, 0, 0, 0, 0]\n"
     ]
    }
   ],
   "source": [
    "y_data = [preprocessor.conv_str2list(i,classes=classes) for i in Y_data]\n",
    "y0 = y_data[0]\n",
    "print(y0)"
   ]
  },
  {
   "cell_type": "code",
   "execution_count": 5,
   "metadata": {},
   "outputs": [
    {
     "name": "stdout",
     "output_type": "stream",
     "text": [
      "QR\n"
     ]
    }
   ],
   "source": [
    "y0_label = preprocessor.conv_list2str(y0,classes=classes)\n",
    "print(y0_label)"
   ]
  }
 ],
 "metadata": {
  "kernelspec": {
   "display_name": "Python 3",
   "language": "python",
   "name": "python3"
  },
  "language_info": {
   "codemirror_mode": {
    "name": "ipython",
    "version": 3
   },
   "file_extension": ".py",
   "mimetype": "text/x-python",
   "name": "python",
   "nbconvert_exporter": "python",
   "pygments_lexer": "ipython3",
   "version": "3.10.6 (main, Nov 14 2022, 16:10:14) [GCC 11.3.0]"
  },
  "orig_nbformat": 4,
  "vscode": {
   "interpreter": {
    "hash": "916dbcbb3f70747c44a77c7bcd40155683ae19c65e1c03b4aa3499c5328201f1"
   }
  }
 },
 "nbformat": 4,
 "nbformat_minor": 2
}
